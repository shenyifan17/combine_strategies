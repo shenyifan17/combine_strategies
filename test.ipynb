{
 "nbformat": 4,
 "nbformat_minor": 2,
 "metadata": {
  "language_info": {
   "name": "python",
   "codemirror_mode": {
    "name": "ipython",
    "version": 3
   },
   "version": "3.8.3-final"
  },
  "orig_nbformat": 2,
  "file_extension": ".py",
  "mimetype": "text/x-python",
  "name": "python",
  "npconvert_exporter": "python",
  "pygments_lexer": "ipython3",
  "version": 3,
  "kernelspec": {
   "name": "Python 3.8.3 64-bit ('base': conda)",
   "display_name": "Python 3.8.3 64-bit ('base': conda)",
   "metadata": {
    "interpreter": {
     "hash": "dca0ade3e726a953b501b15e8e990130d2b7799f14cfd9f4271676035ebe5511"
    }
   }
  }
 },
 "cells": [
  {
   "cell_type": "code",
   "execution_count": 1,
   "metadata": {},
   "outputs": [],
   "source": [
    "import pandas as pd \n",
    "import numpy as np \n",
    "from datetime import date\n",
    "from optimisation_utiles import * \n",
    "df = pd.read_csv('ARP_Returns.csv')[:3026]\n",
    "df_return = cal_return(df)\n",
    "# My weekly change\n",
    "df_weekly = df_return.resample('W-FRI').apply(lambda x: (1+x).prod()-1)"
   ]
  },
  {
   "cell_type": "code",
   "execution_count": 2,
   "metadata": {},
   "outputs": [],
   "source": [
    "df_weekly = df_weekly[df_weekly.index>'2009-09-01']\n",
    "df_weekly = df_weekly.drop(columns=['equity_momentum', 'equity_low_beta', 'equity_quality', 'equity_trend', 'fx_value', 'commodity_carry'])\n",
    "df_return = df_return[df_return.index>'2009-09-01']\n",
    "df_return = df_return.drop(columns=['equity_momentum', 'equity_low_beta', 'equity_quality', 'equity_trend', 'fx_value', 'commodity_carry'])\n"
   ]
  },
  {
   "cell_type": "code",
   "execution_count": 5,
   "metadata": {},
   "outputs": [
    {
     "output_type": "stream",
     "name": "stdout",
     "text": [
      "2009-09-27 ---- 2012-09-28\n",
      "2010-09-26 ---- 2013-09-29\n",
      "2011-09-30 ---- 2014-09-28\n",
      "2012-09-28 ---- 2015-09-27\n",
      "2013-09-29 ---- 2016-09-30\n",
      "2014-09-28 ---- 2017-09-29\n",
      "2015-09-27 ---- 2018-09-28\n",
      "2016-09-30 ---- 2019-09-29\n",
      "2017-09-29 ---- 2020-09-27\n",
      "CPU times: user 35.6 s, sys: 365 ms, total: 36 s\n",
      "Wall time: 9.24 s\n"
     ]
    }
   ],
   "source": [
    "%%time\n",
    "div_results = rolling_portfolio_optimisation(df_return=df_weekly, default_upper_bound=0.1, default_lower_bound=0, window_size=36, optimisation_freq=12, target='diversification_ratio', input_bounds=None, product='ARP')"
   ]
  },
  {
   "cell_type": "code",
   "execution_count": 6,
   "metadata": {},
   "outputs": [
    {
     "output_type": "stream",
     "name": "stdout",
     "text": [
      "2012-09-28\n2013-09-29\n2014-09-28\n2015-09-27\n2016-09-30\n2017-09-29\n2018-09-28\n2019-09-29\n2020-09-27\n"
     ]
    }
   ],
   "source": [
    "input_bounds_max_sharpe = Duncans_weights(df_weekly, div_results)"
   ]
  },
  {
   "cell_type": "code",
   "execution_count": 7,
   "metadata": {},
   "outputs": [],
   "source": [
    "# cap vol carry at 0.3\n",
    "for date in input_bounds_max_sharpe:\n",
    "    input_bounds_max_sharpe[date]['interest_rate_volatility_carry'] = [0, 0.03]\n",
    "    input_bounds_max_sharpe[date]['commodity_volatility_carry'] = [0, 0.03]\n",
    "    input_bounds_max_sharpe[date]['equity_volatility_carry'] = [0, 0.03]"
   ]
  },
  {
   "cell_type": "code",
   "execution_count": 48,
   "metadata": {},
   "outputs": [
    {
     "output_type": "stream",
     "name": "stdout",
     "text": [
      "2009-09-27 ---- 2012-09-28\n",
      "2010-09-26 ---- 2013-09-29\n",
      "2011-09-30 ---- 2014-09-28\n",
      "2012-09-28 ---- 2015-09-27\n",
      "2013-09-29 ---- 2016-09-30\n",
      "2014-09-28 ---- 2017-09-29\n",
      "2015-09-27 ---- 2018-09-28\n",
      "2016-09-30 ---- 2019-09-29\n",
      "2017-09-29 ---- 2020-09-27\n"
     ]
    }
   ],
   "source": [
    "sharpe_results = rolling_portfolio_optimisation(df_return=df_weekly, default_upper_bound=1, default_lower_bound=0, window_size=36, optimisation_freq=12, target='sharpe_ratio', input_bounds=input_bounds_max_sharpe)\n",
    "df_component_weights_s, df_weights_s = generate_component_weights(df_weekly, sharpe_results)\n",
    "df_component_weights_d, df_weights_d = generate_component_weights(df_weekly, div_results)"
   ]
  },
  {
   "cell_type": "code",
   "execution_count": 49,
   "metadata": {},
   "outputs": [],
   "source": [
    "from PortfolioPerformance import * \n",
    "rebalance_results_s = Get_Portfolio_Index_Base_Case(df_return, df_component_weights_s, initial_notional=100)\n",
    "rebalance_results_d = Get_Portfolio_Index_Base_Case(df_return, df_component_weights_d, initial_notional=100)"
   ]
  },
  {
   "cell_type": "code",
   "execution_count": 50,
   "metadata": {},
   "outputs": [],
   "source": [
    "df_component_return_s = rebalance_results_s['PnL_df_net']\n",
    "df_component_return_s = df_component_return_s[(df_component_return_s.index >= '2012-09-29')]\n",
    "df_component_return_d = rebalance_results_d['PnL_df_net']\n",
    "df_component_return_d = df_component_return_d[(df_component_return_d.index >= '2012-09-29')]"
   ]
  },
  {
   "cell_type": "code",
   "execution_count": 84,
   "metadata": {},
   "outputs": [],
   "source": [
    "from IPython.core.interactiveshell import InteractiveShell\n",
    "InteractiveShell.ast_node_interactivity = \"all\"\n"
   ]
  },
  {
   "cell_type": "code",
   "execution_count": 89,
   "metadata": {},
   "outputs": [],
   "source": [
    "def save_results(rolling_result, rebalance_results, which='div'):\n",
    "    # weights \n",
    "    df_weights = pd.DataFrame()\n",
    "    df_risk_contrib = pd.DataFrame()\n",
    "    df_risk_contrib_pct = pd.DataFrame()\n",
    "    df_return_contrib = pd.DataFrame()\n",
    "\n",
    "    df_cum_return = rebalance_results['portfolio_index']\n",
    "    df_cum_return = df_cum_return[df_cum_return.index>='2012-09-20']\n",
    "\n",
    "    df_component_return = rebalance_results['PnL_df_net']\n",
    "    df_component_return = df_component_return[df_component_return.index>='2012-09-29']\n",
    "    full_stats = get_stats(weights='-', df_return=df_component_return, realised_return=True, frequency='daily')\n",
    "\n",
    "    df_full_stats = pd.concat([pd.DataFrame(full_stats['component_risk_contribution'], index=df_weekly.columns, columns=['component_risk_contri']).T,\n",
    "                    pd.DataFrame(full_stats['component_risk_contribution_pct'], index=df_weekly.columns, columns=['component_risk_contri_pct']).T,\n",
    "                    pd.DataFrame(full_stats['component_total_return_contribution'], index=df_weekly.columns, columns=['component_total_return_contri']).T])\n",
    "\n",
    "\n",
    "    for date in rolling_result:\n",
    "        df_weights = pd.concat([df_weights, pd.DataFrame(rolling_result[date]['weights'], index=[date])])\n",
    "        df_risk_contrib = pd.concat([df_risk_contrib, pd.DataFrame(div_results[date]['component_risk_contribution'], index=df_weekly.columns, columns=[date]).T])\n",
    "        df_risk_contrib_pct = pd.concat([df_risk_contrib_pct, pd.DataFrame(div_results[date]['component_risk_contribution_pct'], index=df_weekly.columns, columns=[date]).T])\n",
    "        df_return_contrib = pd.concat([df_return_contrib, pd.DataFrame(div_results[date]['component_total_return_contribution'], columns=[date]).T])\n",
    "\n",
    "    writer = pd.ExcelWriter(f'{which}.xlsx', engine='xlsxwriter')\n",
    "    df_cum_return.to_excel(writer, sheet_name='performance')\n",
    "    df_full_stats.to_excel(writer, sheet_name='overall_risk_stats')\n",
    "    df_weights.to_excel(writer, sheet_name='weights')\n",
    "    df_risk_contrib.to_excel(writer, sheet_name='risk_contribution')\n",
    "    df_risk_contrib_pct.to_excel(writer, sheet_name='risk_contribution_pct')\n",
    "    df_return_contrib.to_excel(writer, sheet_name='return_contribution')\n",
    "    writer.save()\n",
    "\n",
    "    return full_stats\n",
    "    \n"
   ]
  },
  {
   "cell_type": "code",
   "execution_count": 94,
   "metadata": {},
   "outputs": [
    {
     "output_type": "execute_result",
     "data": {
      "text/plain": [
       "{'return': 0.6780700799289189,\n",
       " 'volatility': 0.9023947053611945,\n",
       " 'sharpe_ratio': 0.7514118554779342,\n",
       " 'diversification_ratio': 3.4709124533855973,\n",
       " 'marginal_risk_contribution': array([0.09408912, 0.03301523, 0.06757587, 0.10056451, 0.02236913,\n",
       "        0.07666518, 0.0414154 , 0.00413443, 0.0235958 , 0.0441377 ,\n",
       "        0.08949875, 0.03216053, 0.03351474, 0.01741535, 0.08155662,\n",
       "        0.03129719, 0.10938915]),\n",
       " 'component_risk_contribution': array([0.09408912, 0.03301523, 0.06757587, 0.10056451, 0.02236913,\n",
       "        0.07666518, 0.0414154 , 0.00413443, 0.0235958 , 0.0441377 ,\n",
       "        0.08949875, 0.03216053, 0.03351474, 0.01741535, 0.08155662,\n",
       "        0.03129719, 0.10938915]),\n",
       " 'component_risk_contribution_pct': array([0.10426603, 0.03658624, 0.07488505, 0.11144182, 0.02478864,\n",
       "        0.08495748, 0.045895  , 0.00458162, 0.02614798, 0.04891175,\n",
       "        0.09917916, 0.03563909, 0.03713978, 0.01929903, 0.09037799,\n",
       "        0.03468238, 0.12122096]),\n",
       " 'component_total_return_contribution': low_beta_new                      0.427131\n",
       " momentum_new                      0.332058\n",
       " quality_new                       1.197730\n",
       " commodity_curve                   0.197279\n",
       " credit_curve                      0.659703\n",
       " credit_carry                     -0.357211\n",
       " fx_carry                          0.073667\n",
       " interest_rate_spread              0.034346\n",
       " interest_rate_curve              -0.667843\n",
       " fx_trend                         -0.162093\n",
       " commodity_trend                  -0.413788\n",
       " interest_rate_trend               0.846324\n",
       " commodity_volatility_carry       -0.068254\n",
       " interest_rate_volatility_carry   -0.111739\n",
       " equity_volatility_carry           0.579400\n",
       " cot                               2.558657\n",
       " merger_arb                        1.033479\n",
       " dtype: float64}"
      ]
     },
     "metadata": {},
     "execution_count": 94
    }
   ],
   "source": [
    "full_stats_d = save_results(div_results, rebalance_results_d, which='div')\n",
    "full_stats_d"
   ]
  },
  {
   "cell_type": "code",
   "execution_count": 95,
   "metadata": {},
   "outputs": [
    {
     "output_type": "execute_result",
     "data": {
      "text/plain": [
       "{'return': 0.7686838703001058,\n",
       " 'volatility': 0.8734450822860235,\n",
       " 'sharpe_ratio': 0.8800597609276917,\n",
       " 'diversification_ratio': 3.4530545367037964,\n",
       " 'marginal_risk_contribution': array([0.11217468, 0.05259085, 0.07107542, 0.07605781, 0.02316675,\n",
       "        0.06482448, 0.05178736, 0.00632779, 0.01190869, 0.03165231,\n",
       "        0.05572841, 0.05446169, 0.02283965, 0.03433997, 0.04845464,\n",
       "        0.03789806, 0.11815652]),\n",
       " 'component_risk_contribution': array([0.11217468, 0.05259085, 0.07107542, 0.07605781, 0.02316675,\n",
       "        0.06482448, 0.05178736, 0.00632779, 0.01190869, 0.03165231,\n",
       "        0.05572841, 0.05446169, 0.02283965, 0.03433997, 0.04845464,\n",
       "        0.03789806, 0.11815652]),\n",
       " 'component_risk_contribution_pct': array([0.12842786, 0.06021083, 0.08137366, 0.08707796, 0.02652342,\n",
       "        0.07421701, 0.05929092, 0.00724464, 0.01363416, 0.03623846,\n",
       "        0.06380299, 0.06235273, 0.02614892, 0.03931555, 0.05547532,\n",
       "        0.04338917, 0.13527641]),\n",
       " 'component_total_return_contribution': low_beta_new                      0.103410\n",
       " momentum_new                      0.137805\n",
       " quality_new                       1.490465\n",
       " commodity_curve                   0.095651\n",
       " credit_curve                      0.658711\n",
       " credit_carry                     -0.299886\n",
       " fx_carry                          0.063294\n",
       " interest_rate_spread              0.027332\n",
       " interest_rate_curve              -0.568611\n",
       " fx_trend                         -0.150169\n",
       " commodity_trend                  -0.110905\n",
       " interest_rate_trend               1.382099\n",
       " commodity_volatility_carry       -0.053566\n",
       " interest_rate_volatility_carry    0.254869\n",
       " equity_volatility_carry           0.373583\n",
       " cot                               2.543417\n",
       " merger_arb                        1.389041\n",
       " dtype: float64}"
      ]
     },
     "metadata": {},
     "execution_count": 95
    }
   ],
   "source": [
    "full_stats_s = save_results(sharpe_results, rebalance_results_s, which='sharpe')\n",
    "full_stats_s"
   ]
  },
  {
   "cell_type": "code",
   "execution_count": null,
   "metadata": {},
   "outputs": [],
   "source": []
  },
  {
   "cell_type": "code",
   "execution_count": null,
   "metadata": {},
   "outputs": [],
   "source": []
  },
  {
   "cell_type": "code",
   "execution_count": null,
   "metadata": {},
   "outputs": [],
   "source": []
  },
  {
   "cell_type": "code",
   "execution_count": null,
   "metadata": {},
   "outputs": [],
   "source": []
  },
  {
   "cell_type": "code",
   "execution_count": null,
   "metadata": {},
   "outputs": [],
   "source": []
  }
 ]
}