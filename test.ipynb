{
 "nbformat": 4,
 "nbformat_minor": 2,
 "metadata": {
  "language_info": {
   "name": "python",
   "codemirror_mode": {
    "name": "ipython",
    "version": 3
   },
   "version": "3.7.6-final"
  },
  "orig_nbformat": 2,
  "file_extension": ".py",
  "mimetype": "text/x-python",
  "name": "python",
  "npconvert_exporter": "python",
  "pygments_lexer": "ipython3",
  "version": 3,
  "kernelspec": {
   "name": "python37664bitvirtualenva148dbfbcf124360af9de704788409e5",
   "display_name": "Python 3.7.6 64-bit (virtualenv)",
   "metadata": {
    "interpreter": {
     "hash": "dca0ade3e726a953b501b15e8e990130d2b7799f14cfd9f4271676035ebe5511"
    }
   }
  }
 },
 "cells": [
  {
   "cell_type": "code",
   "execution_count": 1,
   "metadata": {},
   "outputs": [],
   "source": [
    "import pandas as pd \n",
    "import numpy as np \n",
    "from datetime import date\n",
    "from optimisation_utiles import * \n",
    "df = pd.read_csv('ARP_Returns.csv')[:3026]\n",
    "df_return = cal_return(df)\n",
    "# My weekly change\n",
    "df_weekly = df_return.resample('W-FRI').apply(lambda x: (1+x).prod()-1)"
   ]
  },
  {
   "cell_type": "code",
   "execution_count": 2,
   "metadata": {},
   "outputs": [],
   "source": [
    "df_weekly = df_weekly[df_weekly.index>'2009-09-27']\n",
    "df_weekly = df_weekly.drop(columns=['equity_momentum', 'equity_low_beta', 'equity_quality', 'equity_trend', 'fx_value', 'commodity_carry'])\n",
    "df_return = df_return[df_return.index>'2009-09-27']\n",
    "df_return = df_return.drop(columns=['equity_momentum', 'equity_low_beta', 'equity_quality', 'equity_trend', 'fx_value', 'commodity_carry'])\n"
   ]
  },
  {
   "cell_type": "code",
   "execution_count": 3,
   "metadata": {},
   "outputs": [
    {
     "name": "stdout",
     "output_type": "stream",
     "text": "2009-10-30 ---- 2012-10-28\n2010-10-29 ---- 2013-10-27\n2011-10-30 ---- 2014-10-31\n2012-10-28 ---- 2015-10-30\n2013-10-27 ---- 2016-10-30\n2014-10-31 ---- 2017-10-29\n2015-10-30 ---- 2018-10-28\n2016-10-30 ---- 2019-10-27\nWall time: 8.65 s\n"
    }
   ],
   "source": [
    "%%time\n",
    "div_results = rolling_portfolio_optimisation(df_return=df_weekly, default_upper_bound=0.1, default_lower_bound=0, window_size=36, optimisation_freq=12, target='diversification_ratio', input_bounds=None, product='ARP')"
   ]
  },
  {
   "cell_type": "code",
   "execution_count": 4,
   "metadata": {},
   "outputs": [
    {
     "name": "stdout",
     "output_type": "stream",
     "text": "2012-10-28\n2013-10-27\n2014-10-31\n2015-10-30\n2016-10-30\n2017-10-29\n2018-10-28\n2019-10-27\n"
    }
   ],
   "source": [
    "input_bounds_max_sharpe = Duncans_weights(df_weekly, div_results)"
   ]
  },
  {
   "cell_type": "code",
   "execution_count": 5,
   "metadata": {},
   "outputs": [],
   "source": [
    "# cap vol carry at 0.3\n",
    "for date in input_bounds_max_sharpe:\n",
    "    input_bounds_max_sharpe[date]['interest_rate_volatility_carry'] = [0, 0.03]\n",
    "    input_bounds_max_sharpe[date]['commodity_volatility_carry'] = [0, 0.03]\n",
    "    input_bounds_max_sharpe[date]['equity_volatility_carry'] = [0, 0.03]"
   ]
  },
  {
   "cell_type": "code",
   "execution_count": 14,
   "metadata": {},
   "outputs": [
    {
     "name": "stdout",
     "output_type": "stream",
     "text": "2009-10-30 ---- 2012-10-28\n2010-10-29 ---- 2013-10-27\n2011-10-30 ---- 2014-10-31\n2012-10-28 ---- 2015-10-30\n2013-10-27 ---- 2016-10-30\n2014-10-31 ---- 2017-10-29\n2015-10-30 ---- 2018-10-28\n2016-10-30 ---- 2019-10-27\n"
    }
   ],
   "source": [
    "sharpe_results = rolling_portfolio_optimisation(df_return=df_weekly, default_upper_bound=1, default_lower_bound=0, window_size=36, optimisation_freq=12, target='sharpe_ratio', input_bounds=input_bounds_max_sharpe)\n",
    "df_component_weights_s, df_weights_s = generate_component_weights(df_weekly, sharpe_results)\n",
    "df_component_weights_d, df_weights_d = generate_component_weights(df_weekly, div_results)"
   ]
  },
  {
   "cell_type": "code",
   "execution_count": 7,
   "metadata": {},
   "outputs": [],
   "source": [
    "from PortfolioPerformance import * \n",
    "rebalance_results_s = Get_Portfolio_Index_Base_Case(df_return, df_component_weights_s, initial_notional=100)\n",
    "rebalance_results_d = Get_Portfolio_Index_Base_Case(df_return, df_component_weights_d, initial_notional=100)"
   ]
  },
  {
   "cell_type": "code",
   "execution_count": 8,
   "metadata": {},
   "outputs": [],
   "source": [
    "df_component_return_s = rebalance_results_s['PnL_df_net']\n",
    "df_component_return_s = df_component_return_s[(df_component_return_s.index >= '2012-09-27')]\n",
    "df_component_return_d = rebalance_results_d['PnL_df_net']\n",
    "df_component_return_d = df_component_return_d[(df_component_return_d.index >= '2012-09-27')]"
   ]
  },
  {
   "cell_type": "code",
   "execution_count": 12,
   "metadata": {},
   "outputs": [
    {
     "data": {
      "text/plain": "{'return': 0.6667234016757021,\n 'volatility': 0.8975695419503791,\n 'sharpe_ratio': 0.7428097439970406,\n 'diversification_ratio': 3.475624601051589,\n 'marginal_risk_contribution': array([0.09102891, 0.03018542, 0.07131181, 0.10026731, 0.0220006 ,\n        0.07285618, 0.04074037, 0.00413493, 0.02765737, 0.04652486,\n        0.09064276, 0.03101696, 0.0353399 , 0.01302052, 0.08120847,\n        0.03053324, 0.10909996]),\n 'component_risk_contribution': array([0.09102891, 0.03018542, 0.07131181, 0.10026731, 0.0220006 ,\n        0.07285618, 0.04074037, 0.00413493, 0.02765737, 0.04652486,\n        0.09064276, 0.03101696, 0.0353399 , 0.01302052, 0.08120847,\n        0.03053324, 0.10909996]),\n 'component_risk_contribution_pct': array([0.10141711, 0.03363017, 0.0794499 , 0.1117098 , 0.0245113 ,\n        0.08117051, 0.04538965, 0.00460681, 0.03081363, 0.05183427,\n        0.10098689, 0.0345566 , 0.03937288, 0.01450642, 0.09047596,\n        0.03401768, 0.12155042]),\n 'component_total_return_contribution': low_beta_new                      0.587526\n momentum_new                      0.386753\n quality_new                       1.320379\n commodity_curve                   0.234192\n credit_curve                      0.486562\n credit_carry                     -0.347765\n fx_carry                          0.027766\n interest_rate_spread              0.035212\n interest_rate_curve              -0.698419\n fx_trend                         -0.107758\n commodity_trend                  -0.491025\n interest_rate_trend               0.851820\n commodity_volatility_carry       -0.125398\n interest_rate_volatility_carry   -0.075364\n equity_volatility_carry           0.450876\n cot                               2.442029\n merger_arb                        1.245765\n dtype: float64}"
     },
     "execution_count": 12,
     "metadata": {},
     "output_type": "execute_result"
    }
   ],
   "source": [
    "full_stats_d = save_results(div_results, rebalance_results_d, which='div')\n",
    "full_stats_d"
   ]
  },
  {
   "cell_type": "code",
   "execution_count": 13,
   "metadata": {},
   "outputs": [
    {
     "data": {
      "text/plain": "{'return': 0.793641474349835,\n 'volatility': 0.8413177156200677,\n 'sharpe_ratio': 0.9433314663591811,\n 'diversification_ratio': 3.436565357876944,\n 'marginal_risk_contribution': array([0.10645125, 0.04268215, 0.0681958 , 0.07167255, 0.02438507,\n        0.06543526, 0.05339436, 0.00532616, 0.01791171, 0.02753212,\n        0.04301233, 0.03993928, 0.01703339, 0.04180043, 0.05122023,\n        0.03982978, 0.12549585]),\n 'component_risk_contribution': array([0.10645125, 0.04268215, 0.0681958 , 0.07167255, 0.02438507,\n        0.06543526, 0.05339436, 0.00532616, 0.01791171, 0.02753212,\n        0.04301233, 0.03993928, 0.01703339, 0.04180043, 0.05122023,\n        0.03982978, 0.12549585]),\n 'component_risk_contribution_pct': array([0.12652919, 0.0507325 , 0.08105832, 0.08519082, 0.02898438,\n        0.0777771 , 0.06346516, 0.00633073, 0.02129007, 0.032725  ,\n        0.05112495, 0.04747229, 0.02024608, 0.04968448, 0.06088096,\n        0.04734214, 0.14916582]),\n 'component_total_return_contribution': low_beta_new                      0.546863\n momentum_new                      0.298947\n quality_new                       2.352257\n commodity_curve                   0.316945\n credit_curve                      0.486176\n credit_carry                     -0.178581\n fx_carry                         -0.149890\n interest_rate_spread              0.037696\n interest_rate_curve              -0.630884\n fx_trend                         -0.085170\n commodity_trend                  -0.157957\n interest_rate_trend               0.879229\n commodity_volatility_carry       -0.034656\n interest_rate_volatility_carry    0.252147\n equity_volatility_carry           0.258863\n cot                               2.431552\n merger_arb                        1.559369\n dtype: float64}"
     },
     "execution_count": 13,
     "metadata": {},
     "output_type": "execute_result"
    }
   ],
   "source": [
    "full_stats_s = save_results(sharpe_results, rebalance_results_s, which='sharpe')\n",
    "full_stats_s"
   ]
  },
  {
   "cell_type": "code",
   "execution_count": null,
   "metadata": {},
   "outputs": [],
   "source": []
  },
  {
   "cell_type": "code",
   "execution_count": null,
   "metadata": {},
   "outputs": [],
   "source": []
  },
  {
   "cell_type": "code",
   "execution_count": null,
   "metadata": {},
   "outputs": [],
   "source": []
  },
  {
   "cell_type": "code",
   "execution_count": null,
   "metadata": {},
   "outputs": [],
   "source": []
  },
  {
   "cell_type": "code",
   "execution_count": null,
   "metadata": {},
   "outputs": [],
   "source": []
  }
 ]
}