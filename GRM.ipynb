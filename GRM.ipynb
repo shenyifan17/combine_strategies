{
 "metadata": {
  "language_info": {
   "codemirror_mode": {
    "name": "ipython",
    "version": 3
   },
   "file_extension": ".py",
   "mimetype": "text/x-python",
   "name": "python",
   "nbconvert_exporter": "python",
   "pygments_lexer": "ipython3",
   "version": "3.7.6-final"
  },
  "orig_nbformat": 2,
  "kernelspec": {
   "name": "python37664bitvirtualenva148dbfbcf124360af9de704788409e5",
   "display_name": "Python 3.7.6 64-bit (virtualenv)",
   "metadata": {
    "interpreter": {
     "hash": "dca0ade3e726a953b501b15e8e990130d2b7799f14cfd9f4271676035ebe5511"
    }
   }
  }
 },
 "nbformat": 4,
 "nbformat_minor": 2,
 "cells": [
  {
   "cell_type": "code",
   "execution_count": 1,
   "metadata": {},
   "outputs": [],
   "source": [
    "import pandas as pd \n",
    "import numpy as np \n",
    "from optimisation_utiles import * \n",
    "from grm_utiles import * \n",
    "import matplotlib.pyplot as plt\n",
    "from GRM_monte_carlo_utiles import * "
   ]
  },
  {
   "cell_type": "code",
   "execution_count": 2,
   "metadata": {},
   "outputs": [],
   "source": [
    "df_return = pd.read_excel('GRM_returns.xlsx')\n",
    "df_return['Date'] = pd.to_datetime(df_return['Date'])\n",
    "df_return = df_return.set_index('Date')\n",
    "df_MXWO = pd.read_excel('MSCI_world.xlsx')\n",
    "df_MXWO['Date'] = pd.to_datetime(df_MXWO['Date'])\n",
    "df_MXWO = df_MXWO.set_index('Date')\n",
    "df_return = df_return[df_return.index>'2007-09-01']\n",
    "df_MXWO = df_MXWO[df_MXWO.index>'2007-09-01']"
   ]
  },
  {
   "cell_type": "code",
   "execution_count": 3,
   "metadata": {},
   "outputs": [],
   "source": [
    "df_MXWO_return = df_MXWO.pct_change(1).dropna(0).resample('M').apply(lambda x: (1+x).prod() - 1)\n",
    "df_monthly = df_return.resample('M').apply(lambda x: (1+x).prod() - 1)"
   ]
  },
  {
   "cell_type": "code",
   "execution_count": 17,
   "metadata": {},
   "outputs": [
    {
     "data": {
      "text/html": "<div>\n<style scoped>\n    .dataframe tbody tr th:only-of-type {\n        vertical-align: middle;\n    }\n\n    .dataframe tbody tr th {\n        vertical-align: top;\n    }\n\n    .dataframe thead th {\n        text-align: right;\n    }\n</style>\n<table border=\"1\" class=\"dataframe\">\n  <thead>\n    <tr style=\"text-align: right;\">\n      <th></th>\n      <th>MXWO Index</th>\n    </tr>\n    <tr>\n      <th>Date</th>\n      <th></th>\n    </tr>\n  </thead>\n  <tbody>\n    <tr>\n      <th>2008-10-31</th>\n      <td>-0.190445</td>\n    </tr>\n    <tr>\n      <th>2020-03-31</th>\n      <td>-0.134691</td>\n    </tr>\n    <tr>\n      <th>2008-09-30</th>\n      <td>-0.120777</td>\n    </tr>\n    <tr>\n      <th>2009-02-28</th>\n      <td>-0.104872</td>\n    </tr>\n    <tr>\n      <th>2010-05-31</th>\n      <td>-0.099086</td>\n    </tr>\n    <tr>\n      <th>2012-05-31</th>\n      <td>-0.089916</td>\n    </tr>\n    <tr>\n      <th>2011-09-30</th>\n      <td>-0.088473</td>\n    </tr>\n    <tr>\n      <th>2009-01-31</th>\n      <td>-0.088456</td>\n    </tr>\n  </tbody>\n</table>\n</div>",
      "text/plain": "            MXWO Index\nDate                  \n2008-10-31   -0.190445\n2020-03-31   -0.134691\n2008-09-30   -0.120777\n2009-02-28   -0.104872\n2010-05-31   -0.099086\n2012-05-31   -0.089916\n2011-09-30   -0.088473\n2009-01-31   -0.088456"
     },
     "execution_count": 17,
     "metadata": {},
     "output_type": "execute_result"
    }
   ],
   "source": [
    "num_months = len(df_MXWO_return)\n",
    "df_MXWO_topdd = df_MXWO_return.sort_values('MXWO Index')[:int(num_months/20)]\n",
    "worst_MXWO_months = df_MXWO_topdd.index\n",
    "df_MXWO_topdd"
   ]
  },
  {
   "cell_type": "code",
   "execution_count": 18,
   "metadata": {},
   "outputs": [
    {
     "data": {
      "text/plain": "Date\n2008-09-30    0.030194\n2008-10-31    0.047611\n2009-01-31    0.022114\n2009-02-28    0.026218\n2010-05-31    0.024771\n2011-09-30    0.022118\n2012-05-31    0.022479\n2020-03-31    0.033673\nName: MXWO Index, dtype: float64"
     },
     "execution_count": 18,
     "metadata": {},
     "output_type": "execute_result"
    }
   ],
   "source": [
    "sr_MXWO_dd_threshold = ((-1) * df_MXWO_topdd * 0.25).squeeze().sort_index()\n",
    "sr_MXWO_dd_threshold"
   ]
  },
  {
   "cell_type": "code",
   "execution_count": 66,
   "metadata": {},
   "outputs": [],
   "source": [
    "gen_random_port_num = 200000\n",
    "rand_wts = np.random.rand(gen_random_port_num, len(df_monthly.columns))\n",
    "wts = rand_wts / rand_wts.sum(axis=1).reshape(gen_random_port_num,1).repeat(len(df_monthly.columns), axis=1)\n",
    "first_risk = wts[:,:11].sum(axis=1) # first_risk\n",
    "defensive_factors = wts[:,11:20].sum(axis=1) # defensive_factors\n",
    "trend = wts[:,20:26].sum(axis=1) # trend \n",
    "tail_risk = wts[:,26:30].sum(axis=1) # tail_risk"
   ]
  },
  {
   "cell_type": "code",
   "execution_count": 67,
   "metadata": {},
   "outputs": [],
   "source": [
    "# factor groups weights \n",
    "first_risk_bool = (first_risk > 0.15) & (first_risk < 0.4)\n",
    "defensive_factors_bool = (defensive_factors > 0.3) & (defensive_factors < 0.5)\n",
    "trend_bool = (trend > 0.1) & (trend < 0.25)\n",
    "tail_risk_bool = (tail_risk > 0.1) & (tail_risk < 0.24)\n",
    "wts_filter = wts[first_risk_bool & defensive_factors_bool & trend_bool & tail_risk_bool]"
   ]
  },
  {
   "cell_type": "code",
   "execution_count": 68,
   "metadata": {},
   "outputs": [
    {
     "name": "stdout",
     "output_type": "stream",
     "text": "65229\n"
    }
   ],
   "source": [
    "print(len(wts_filter))"
   ]
  },
  {
   "cell_type": "code",
   "execution_count": 60,
   "metadata": {},
   "outputs": [],
   "source": [
    "# individual weights "
   ]
  },
  {
   "cell_type": "code",
   "execution_count": 69,
   "metadata": {},
   "outputs": [
    {
     "name": "stdout",
     "output_type": "stream",
     "text": "find!\nfind!\nWall time: 11min 5s\n"
    }
   ],
   "source": [
    "%%time\n",
    "good_weights_list = []\n",
    "for i in range(len(wts_filter)):\n",
    "    if check_meeting_dd_requirements(df_monthly, wts_filter[i], 0.18, df_MXWO_topdd):\n",
    "        print('find!')\n",
    "        good_weights_list.append(wts_filter[i])\n"
   ]
  },
  {
   "cell_type": "code",
   "execution_count": 70,
   "metadata": {},
   "outputs": [
    {
     "data": {
      "text/plain": "[array([0.04572257, 0.02003531, 0.00145188, 0.03452972, 0.00013168,\n        0.01089242, 0.01242946, 0.07485007, 0.0120141 , 0.04826106,\n        0.02095791, 0.00054798, 0.03176954, 0.00470337, 0.06457451,\n        0.06969912, 0.05212089, 0.02255993, 0.07352586, 0.01822554,\n        0.04413363, 0.07068298, 0.02451418, 0.0139926 , 0.0334258 ,\n        0.04975198, 0.06431437, 0.02071189, 0.03112417, 0.02834546]),\n array([0.07077969, 0.03185596, 0.02611819, 0.07457894, 0.04195951,\n        0.02571833, 0.00556523, 0.02774478, 0.01693018, 0.02187198,\n        0.00283476, 0.03150771, 0.00275684, 0.01506104, 0.0768279 ,\n        0.03898755, 0.05910078, 0.0202408 , 0.07297405, 0.0051162 ,\n        0.01016559, 0.03414657, 0.06632396, 0.00340036, 0.02504692,\n        0.03058891, 0.03377652, 0.06996117, 0.02779279, 0.03026679])]"
     },
     "execution_count": 70,
     "metadata": {},
     "output_type": "execute_result"
    }
   ],
   "source": [
    "good_weights_list"
   ]
  },
  {
   "cell_type": "code",
   "execution_count": 62,
   "metadata": {},
   "outputs": [
    {
     "ename": "IndexError",
     "evalue": "list index out of range",
     "output_type": "error",
     "traceback": [
      "\u001b[1;31m---------------------------------------------------------------------------\u001b[0m",
      "\u001b[1;31mIndexError\u001b[0m                                Traceback (most recent call last)",
      "\u001b[1;32m<ipython-input-62-4d903642b742>\u001b[0m in \u001b[0;36m<module>\u001b[1;34m\u001b[0m\n\u001b[1;32m----> 1\u001b[1;33m \u001b[0mdf_GRM\u001b[0m \u001b[1;33m=\u001b[0m \u001b[1;33m(\u001b[0m\u001b[0mgood_weights_list\u001b[0m\u001b[1;33m[\u001b[0m\u001b[1;36m0\u001b[0m\u001b[1;33m]\u001b[0m \u001b[1;33m*\u001b[0m \u001b[0mdf_monthly\u001b[0m\u001b[1;33m)\u001b[0m\u001b[1;33m.\u001b[0m\u001b[0msum\u001b[0m\u001b[1;33m(\u001b[0m\u001b[0maxis\u001b[0m\u001b[1;33m=\u001b[0m\u001b[1;36m1\u001b[0m\u001b[1;33m)\u001b[0m\u001b[1;33m\u001b[0m\u001b[1;33m\u001b[0m\u001b[0m\n\u001b[0m\u001b[0;32m      2\u001b[0m \u001b[0mdf_GRM\u001b[0m\u001b[1;33m[\u001b[0m\u001b[0mdf_GRM\u001b[0m\u001b[1;33m.\u001b[0m\u001b[0mindex\u001b[0m\u001b[1;33m.\u001b[0m\u001b[0misin\u001b[0m\u001b[1;33m(\u001b[0m\u001b[0mdf_MXWO_topdd\u001b[0m\u001b[1;33m.\u001b[0m\u001b[0mindex\u001b[0m\u001b[1;33m)\u001b[0m\u001b[1;33m]\u001b[0m\u001b[1;33m\u001b[0m\u001b[1;33m\u001b[0m\u001b[0m\n",
      "\u001b[1;31mIndexError\u001b[0m: list index out of range"
     ]
    }
   ],
   "source": [
    "df_GRM = (good_weights_list[0] * df_monthly).sum(axis=1)\n",
    "df_GRM[df_GRM.index.isin(df_MXWO_topdd.index)]"
   ]
  },
  {
   "cell_type": "code",
   "execution_count": null,
   "metadata": {},
   "outputs": [],
   "source": [
    "import matplotlib.pyplot as plt \n",
    "%matplotlib inline\n",
    "plt.plot((1+df_GRM).cumprod())"
   ]
  },
  {
   "cell_type": "code",
   "execution_count": null,
   "metadata": {},
   "outputs": [],
   "source": [
    "plt.plot((1+df_MXWO_return).cumprod().squeeze())"
   ]
  },
  {
   "cell_type": "code",
   "execution_count": null,
   "metadata": {},
   "outputs": [],
   "source": [
    "plt.plot((1 + (0.5 * df_GRM) + (0.5 * df_MXWO_return.squeeze())).cumprod())"
   ]
  },
  {
   "cell_type": "code",
   "execution_count": null,
   "metadata": {},
   "outputs": [],
   "source": [
    "# worst 5% dd MSCI month?\n",
    "# limit dd by at 25% (GRM +25% of )\n",
    "# monthly data? \n",
    "# plus correlation + contribution to risk \n",
    "# rebalance monthly \n",
    "# show both one off and rolling 3yrs"
   ]
  },
  {
   "cell_type": "code",
   "execution_count": null,
   "metadata": {},
   "outputs": [],
   "source": [
    "# drawdown as a constraint, \n",
    "# multiple objects? \n",
    "# just do monte carlo with monthly data rather than optimiser (with 20bps...)"
   ]
  },
  {
   "cell_type": "code",
   "execution_count": 108,
   "metadata": {},
   "outputs": [
    {
     "data": {
      "text/plain": "DatetimeIndex(['2008-10-31', '2020-03-31', '2008-09-30', '2009-02-28',\n               '2010-05-31', '2012-05-31', '2011-09-30', '2009-01-31'],\n              dtype='datetime64[ns]', name='Date', freq=None)"
     },
     "execution_count": 108,
     "metadata": {},
     "output_type": "execute_result"
    }
   ],
   "source": [
    "worst_MXWO_months"
   ]
  },
  {
   "cell_type": "code",
   "execution_count": null,
   "metadata": {},
   "outputs": [],
   "source": [
    "\n"
   ]
  }
 ]
}