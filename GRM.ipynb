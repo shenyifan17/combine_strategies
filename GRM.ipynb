{
 "metadata": {
  "language_info": {
   "codemirror_mode": {
    "name": "ipython",
    "version": 3
   },
   "file_extension": ".py",
   "mimetype": "text/x-python",
   "name": "python",
   "nbconvert_exporter": "python",
   "pygments_lexer": "ipython3",
   "version": "3.7.6-final"
  },
  "orig_nbformat": 2,
  "kernelspec": {
   "name": "python37664bitvirtualenva148dbfbcf124360af9de704788409e5",
   "display_name": "Python 3.7.6 64-bit (virtualenv)",
   "metadata": {
    "interpreter": {
     "hash": "dca0ade3e726a953b501b15e8e990130d2b7799f14cfd9f4271676035ebe5511"
    }
   }
  }
 },
 "nbformat": 4,
 "nbformat_minor": 2,
 "cells": [
  {
   "cell_type": "code",
   "execution_count": 1,
   "metadata": {},
   "outputs": [],
   "source": [
    "import pandas as pd \n",
    "import numpy as np \n",
    "from optimisation_utiles import * \n",
    "from grm_utiles import * \n",
    "import matplotlib.pyplot as plt"
   ]
  },
  {
   "cell_type": "code",
   "execution_count": 2,
   "metadata": {},
   "outputs": [],
   "source": [
    "df_return = pd.read_csv('GRM_returns.csv')"
   ]
  },
  {
   "cell_type": "code",
   "execution_count": 3,
   "metadata": {},
   "outputs": [],
   "source": [
    "df_return_test = df_return.iloc[-500:].set_index('Date')"
   ]
  },
  {
   "cell_type": "code",
   "execution_count": 4,
   "metadata": {},
   "outputs": [
    {
     "name": "stdout",
     "output_type": "stream",
     "text": "Wall time: 19min 26s\n"
    }
   ],
   "source": [
    "%%time\n",
    "results = portfolio_optimisation(df_return_test, \n",
    "                                 target='max_dd',\n",
    "                                 grm_bound={'first_risk': [0.1, 0.3], 'defensive_factors': [0.1, 0.3], 'trend': [0.1, 0.4], 'tail_risk': [0.1, 0.4]})"
   ]
  },
  {
   "cell_type": "code",
   "execution_count": 9,
   "metadata": {},
   "outputs": [
    {
     "data": {
      "text/plain": "{'objective': -0.007403137917768979,\n 'weights': {'BNPIESTV': 6.472171606348438e-18,\n  'BNPIEMTV': 0.007184793760709608,\n  'BNPIRPEE': 2.945697777349855e-17,\n  'BNPIRPUE': 2.3464409799659693e-17,\n  'BNPIRPLE': 1.4461478032319933e-18,\n  'BNPIRPJE': 0.004677827567297997,\n  'BNPIRPHE': 0.0006881088476444097,\n  'BNPIRPAE': 0.0012845069627490005,\n  'BNPIV1EE': 0.00033572108403541814,\n  'BNPIV1UE': 4.561523971001289e-17,\n  'BNPIFU10': 0.08998377693094152,\n  'BNPIFU30': 2.667264942048905e-18,\n  'BNPXSPPE': 0.09962422123760245,\n  'BNPI1X4E': 2.212505812318293e-08,\n  'BNPXCFHE': 1.14341331747761e-17,\n  'BNPIVOLA': 0.039833452316884815,\n  'BNPIFXMG': 0.062147887145579506,\n  'BPMMMTWU': 0.0003189965450336887,\n  'BNPINMXA': 0.0004782055111148428,\n  'BNPITMXA': 0.007971376666941598,\n  'BNPXCRME': 0.024911881674574605,\n  'BNPXCRMU': 0.08373167226865971,\n  'BNPIPQEE': 0.11590097887863862,\n  'BNPIPQUE': 0.0032861913363460647,\n  'BNPIPRX3': 0.03115484444458743,\n  'BNPIDRXA': 0.042108613994868024,\n  'BPFXSTGU': 0.07068158290467196,\n  'BNPITIEG': 0.23932178535486529,\n  'BNPICCUE': 0.04073817881236904,\n  'BNPICCEE': 0.033635373628826196},\n 'return': 0.03809666884677595,\n 'volatility': 0.020356570373295572,\n 'diversification_ratio': 3.4441363128681806,\n 'sharpe_ratio': 1.8714679412182529,\n 'marginal_risk_contribution': array([ 0.22393774,  0.11725273,  0.04637778,  0.05713876,  0.04103256,\n         0.01627407,  0.03430611,  0.04345058,  0.17863447,  0.21932886,\n         0.02012793,  0.0405915 ,  0.05325742,  0.17310224,  0.01312996,\n         0.05487317,  0.00705702,  0.00258657,  0.01833309,  0.01564185,\n         0.00531578,  0.0152339 ,  0.00851907, -0.00141275,  0.00919335,\n         0.03892295,  0.01847526,  0.01621878, -0.00405419,  0.00251886]),\n 'component_risk_contribution': array([ 1.44936350e-18,  8.42436670e-04,  1.36614929e-18,  1.34072729e-18,\n         5.93391417e-20,  7.61272909e-05,  2.36063410e-05,  5.58125764e-05,\n         5.99713588e-05,  1.00047386e-17,  1.81118680e-03,  1.08268287e-19,\n         5.30572856e-03,  3.82989721e-09,  1.50129730e-19,  2.18578771e-03,\n         4.38578727e-04,  8.25108379e-07,  8.76698536e-06,  1.24687094e-04,\n         1.32426050e-04,  1.27555968e-03,  9.87367978e-04, -4.64255938e-06,\n         2.86417299e-04,  1.63899167e-03,  1.30586065e-03,  3.88150794e-03,\n        -1.65160282e-04,  8.47229010e-05]),\n 'component_risk_contribution_pct': array([ 7.11988057e-17,  4.13840178e-02,  6.71109754e-17,  6.58621401e-17,\n         2.91498718e-18,  3.73969139e-03,  1.15964235e-03,  2.74174753e-03,\n         2.94604433e-03,  4.91474665e-16,  8.89730817e-02,  5.31859175e-18,\n         2.60639610e-01,  1.88140592e-07,  7.37500114e-18,  1.07375047e-01,\n         2.15448241e-02,  4.05327795e-05,  4.30671041e-04,  6.12515230e-03,\n         6.50532225e-03,  6.26608343e-02,  4.85036507e-02, -2.28061962e-04,\n         1.40700174e-02,  8.05141357e-02,  6.41493445e-02,  1.90675928e-01,\n        -8.11336484e-03,  4.16194376e-03]),\n 'component_total_return_contribution': BNPIESTV   -0.364157\n BNPIEMTV    0.333916\n BNPIRPEE   -0.065587\n BNPIRPUE   -0.127033\n BNPIRPLE    0.025748\n BNPIRPJE   -0.104996\n BNPIRPHE   -0.081694\n BNPIRPAE   -0.078803\n BNPIV1EE    0.435057\n BNPIV1UE    0.499486\n BNPIFU10    0.141559\n BNPIFU30    0.260643\n BNPXSPPE    0.226479\n BNPI1X4E    0.959257\n BNPXCFHE   -0.092314\n BNPIVOLA    0.309333\n BNPIFXMG    0.002435\n BPMMMTWU    0.118817\n BNPINMXA    0.301555\n BNPITMXA    0.016294\n BNPXCRME   -0.112561\n BNPXCRMU   -0.022481\n BNPIPQEE    0.002349\n BNPIPQUE   -0.160875\n BNPIPRX3    0.005505\n BNPIDRXA    0.219891\n BPFXSTGU    0.089183\n BNPITIEG    0.078581\n BNPICCUE   -0.055812\n BNPICCEE   -0.068517\n dtype: float64}"
     },
     "execution_count": 9,
     "metadata": {},
     "output_type": "execute_result"
    }
   ],
   "source": [
    "results"
   ]
  },
  {
   "cell_type": "code",
   "execution_count": 16,
   "metadata": {},
   "outputs": [
    {
     "data": {
      "text/plain": "Date\n2018-12-05    1.000678\n2018-12-06    1.004296\n2018-12-07    1.003757\n2018-12-10    1.004540\n2018-12-11    1.003909\n                ...   \n2020-10-28    1.077702\n2020-10-29    1.076157\n2020-10-30    1.077288\n2020-11-02    1.077566\n2020-11-03    1.078071\nLength: 500, dtype: float64"
     },
     "execution_count": 16,
     "metadata": {},
     "output_type": "execute_result"
    }
   ],
   "source": [
    "((1+df_return_test) * results['weights']).sum(axis=1).cumprod()"
   ]
  },
  {
   "cell_type": "code",
   "execution_count": null,
   "metadata": {},
   "outputs": [],
   "source": [
    "# worst 5% dd MSCI month?\n",
    "# limit dd by at 25% (GRM +25% of )\n",
    "# monthly data? \n",
    "# plus correlation + contribution to risk \n",
    "# rebalance monthly \n",
    "# show both one off and rolling 3yrs "
   ]
  },
  {
   "cell_type": "code",
   "execution_count": null,
   "metadata": {},
   "outputs": [],
   "source": [
    "# drawdown as a constraint, \n",
    "# multiple objects? \n",
    "# just do monte carlo with monthly data rather than optimiser (with 20bps...)"
   ]
  }
 ]
}