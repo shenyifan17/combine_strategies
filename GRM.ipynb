{
 "metadata": {
  "language_info": {
   "codemirror_mode": {
    "name": "ipython",
    "version": 3
   },
   "file_extension": ".py",
   "mimetype": "text/x-python",
   "name": "python",
   "nbconvert_exporter": "python",
   "pygments_lexer": "ipython3",
   "version": "3.8.3-final"
  },
  "orig_nbformat": 2,
  "kernelspec": {
   "name": "Python 3.8.3 64-bit ('base': conda)",
   "display_name": "Python 3.8.3 64-bit ('base': conda)",
   "metadata": {
    "interpreter": {
     "hash": "dca0ade3e726a953b501b15e8e990130d2b7799f14cfd9f4271676035ebe5511"
    }
   }
  }
 },
 "nbformat": 4,
 "nbformat_minor": 2,
 "cells": [
  {
   "cell_type": "code",
   "execution_count": 1,
   "metadata": {},
   "outputs": [],
   "source": [
    "import pandas as pd \n",
    "import numpy as np \n",
    "from optimisation_utiles import * \n",
    "from grm_utiles import * "
   ]
  },
  {
   "cell_type": "code",
   "execution_count": 2,
   "metadata": {},
   "outputs": [],
   "source": [
    "df_return = pd.read_csv('GRM_returns.csv')"
   ]
  },
  {
   "cell_type": "code",
   "execution_count": 3,
   "metadata": {},
   "outputs": [],
   "source": [
    "df_return_test = df_return.iloc[-500:].set_index('Date')"
   ]
  },
  {
   "cell_type": "code",
   "execution_count": 4,
   "metadata": {},
   "outputs": [
    {
     "output_type": "execute_result",
     "data": {
      "text/plain": [
       "            BNPIESTV  BNPIEMTV  BNPIRPEE  BNPIRPUE  BNPIRPLE  BNPIRPJE  \\\n",
       "Date                                                                     \n",
       "2018-12-05  0.000000  0.000000  0.009138  0.000000  0.010517  0.004987   \n",
       "2018-12-06  0.027581  0.014453  0.027976  0.001998  0.028460  0.012743   \n",
       "2018-12-07  0.051208  0.022888 -0.007577  0.011982 -0.012043 -0.004896   \n",
       "2018-12-10 -0.003491 -0.000274  0.012836 -0.002297  0.006439  0.013720   \n",
       "2018-12-11 -0.007822 -0.003990 -0.012846  0.000131 -0.011007  0.000259   \n",
       "...              ...       ...       ...       ...       ...       ...   \n",
       "2020-10-28  0.126493  0.041646  0.023843  0.016057  0.018062  0.001215   \n",
       "2020-10-29 -0.071799 -0.030799 -0.001255 -0.006618 -0.001388  0.003016   \n",
       "2020-10-30  0.057504  0.030006 -0.002684  0.003936 -0.002002  0.009617   \n",
       "2020-11-02 -0.033387 -0.023300 -0.010517 -0.006186 -0.007483 -0.008032   \n",
       "2020-11-03 -0.053214 -0.020974 -0.015464 -0.007673 -0.012394  0.000000   \n",
       "\n",
       "            BNPIRPHE  BNPIRPAE  BNPIV1EE  BNPIV1UE  ...  BNPXCRME  BNPXCRMU  \\\n",
       "Date                                                ...                       \n",
       "2018-12-05  0.009759  0.005232  0.028481  0.000000  ...  0.000636  0.000000   \n",
       "2018-12-06  0.015484  0.001146  0.111702  0.011814  ...  0.004259  0.010617   \n",
       "2018-12-07  0.003368 -0.001886 -0.028289  0.046835  ... -0.001223 -0.006564   \n",
       "2018-12-10  0.008325  0.015474  0.032492 -0.009143  ...  0.005573  0.007713   \n",
       "2018-12-11  0.000957 -0.004953 -0.024654  0.002345  ... -0.005168 -0.005621   \n",
       "...              ...       ...       ...       ...  ...       ...       ...   \n",
       "2020-10-28  0.003358  0.000118  0.088715  0.089444  ... -0.003635  0.000094   \n",
       "2020-10-29 -0.000450  0.010107 -0.018065 -0.036658  ... -0.001484  0.001252   \n",
       "2020-10-30  0.009665  0.003646 -0.021456  0.014964  ... -0.001702  0.000905   \n",
       "2020-11-02 -0.007781 -0.003595 -0.032420 -0.037162  ...  0.000721 -0.001211   \n",
       "2020-11-03 -0.011784 -0.010422 -0.036835 -0.035466  ...  0.001433 -0.004098   \n",
       "\n",
       "            BNPIPQEE  BNPIPQUE  BNPIPRX3  BNPIDRXA  BPFXSTGU  BNPITIEG  \\\n",
       "Date                                                                     \n",
       "2018-12-05  0.001222 -0.000081  0.003084  0.000491  0.000150 -0.000084   \n",
       "2018-12-06  0.002202  0.002382  0.002305  0.008697  0.000388  0.000109   \n",
       "2018-12-07  0.003353 -0.002278  0.004584 -0.013254 -0.000400  0.000430   \n",
       "2018-12-10 -0.002100  0.004421 -0.002747 -0.001730 -0.002114 -0.000105   \n",
       "2018-12-11 -0.000647  0.002529  0.000908  0.008658 -0.000608  0.000174   \n",
       "...              ...       ...       ...       ...       ...       ...   \n",
       "2020-10-28  0.001429  0.005459  0.000394  0.006373  0.001907 -0.005170   \n",
       "2020-10-29  0.000925 -0.006045  0.000183  0.001857  0.002216 -0.000955   \n",
       "2020-10-30  0.000202  0.003478  0.000261  0.003987  0.000122  0.002158   \n",
       "2020-11-02  0.000415  0.001276  0.000031  0.005940  0.000208  0.002314   \n",
       "2020-11-03 -0.004379 -0.000730 -0.000562  0.001682 -0.003055  0.002137   \n",
       "\n",
       "            BNPICCUE  BNPICCEE  \n",
       "Date                            \n",
       "2018-12-05  0.000000 -0.001708  \n",
       "2018-12-06 -0.000415 -0.005873  \n",
       "2018-12-07 -0.002996  0.001826  \n",
       "2018-12-10  0.000599 -0.002829  \n",
       "2018-12-11  0.000021  0.002831  \n",
       "...              ...       ...  \n",
       "2020-10-28 -0.002810 -0.006136  \n",
       "2020-10-29  0.001840  0.000156  \n",
       "2020-10-30 -0.000541  0.000809  \n",
       "2020-11-02  0.001425  0.002437  \n",
       "2020-11-03  0.000971  0.003311  \n",
       "\n",
       "[500 rows x 30 columns]"
      ],
      "text/html": "<div>\n<style scoped>\n    .dataframe tbody tr th:only-of-type {\n        vertical-align: middle;\n    }\n\n    .dataframe tbody tr th {\n        vertical-align: top;\n    }\n\n    .dataframe thead th {\n        text-align: right;\n    }\n</style>\n<table border=\"1\" class=\"dataframe\">\n  <thead>\n    <tr style=\"text-align: right;\">\n      <th></th>\n      <th>BNPIESTV</th>\n      <th>BNPIEMTV</th>\n      <th>BNPIRPEE</th>\n      <th>BNPIRPUE</th>\n      <th>BNPIRPLE</th>\n      <th>BNPIRPJE</th>\n      <th>BNPIRPHE</th>\n      <th>BNPIRPAE</th>\n      <th>BNPIV1EE</th>\n      <th>BNPIV1UE</th>\n      <th>...</th>\n      <th>BNPXCRME</th>\n      <th>BNPXCRMU</th>\n      <th>BNPIPQEE</th>\n      <th>BNPIPQUE</th>\n      <th>BNPIPRX3</th>\n      <th>BNPIDRXA</th>\n      <th>BPFXSTGU</th>\n      <th>BNPITIEG</th>\n      <th>BNPICCUE</th>\n      <th>BNPICCEE</th>\n    </tr>\n    <tr>\n      <th>Date</th>\n      <th></th>\n      <th></th>\n      <th></th>\n      <th></th>\n      <th></th>\n      <th></th>\n      <th></th>\n      <th></th>\n      <th></th>\n      <th></th>\n      <th></th>\n      <th></th>\n      <th></th>\n      <th></th>\n      <th></th>\n      <th></th>\n      <th></th>\n      <th></th>\n      <th></th>\n      <th></th>\n      <th></th>\n    </tr>\n  </thead>\n  <tbody>\n    <tr>\n      <th>2018-12-05</th>\n      <td>0.000000</td>\n      <td>0.000000</td>\n      <td>0.009138</td>\n      <td>0.000000</td>\n      <td>0.010517</td>\n      <td>0.004987</td>\n      <td>0.009759</td>\n      <td>0.005232</td>\n      <td>0.028481</td>\n      <td>0.000000</td>\n      <td>...</td>\n      <td>0.000636</td>\n      <td>0.000000</td>\n      <td>0.001222</td>\n      <td>-0.000081</td>\n      <td>0.003084</td>\n      <td>0.000491</td>\n      <td>0.000150</td>\n      <td>-0.000084</td>\n      <td>0.000000</td>\n      <td>-0.001708</td>\n    </tr>\n    <tr>\n      <th>2018-12-06</th>\n      <td>0.027581</td>\n      <td>0.014453</td>\n      <td>0.027976</td>\n      <td>0.001998</td>\n      <td>0.028460</td>\n      <td>0.012743</td>\n      <td>0.015484</td>\n      <td>0.001146</td>\n      <td>0.111702</td>\n      <td>0.011814</td>\n      <td>...</td>\n      <td>0.004259</td>\n      <td>0.010617</td>\n      <td>0.002202</td>\n      <td>0.002382</td>\n      <td>0.002305</td>\n      <td>0.008697</td>\n      <td>0.000388</td>\n      <td>0.000109</td>\n      <td>-0.000415</td>\n      <td>-0.005873</td>\n    </tr>\n    <tr>\n      <th>2018-12-07</th>\n      <td>0.051208</td>\n      <td>0.022888</td>\n      <td>-0.007577</td>\n      <td>0.011982</td>\n      <td>-0.012043</td>\n      <td>-0.004896</td>\n      <td>0.003368</td>\n      <td>-0.001886</td>\n      <td>-0.028289</td>\n      <td>0.046835</td>\n      <td>...</td>\n      <td>-0.001223</td>\n      <td>-0.006564</td>\n      <td>0.003353</td>\n      <td>-0.002278</td>\n      <td>0.004584</td>\n      <td>-0.013254</td>\n      <td>-0.000400</td>\n      <td>0.000430</td>\n      <td>-0.002996</td>\n      <td>0.001826</td>\n    </tr>\n    <tr>\n      <th>2018-12-10</th>\n      <td>-0.003491</td>\n      <td>-0.000274</td>\n      <td>0.012836</td>\n      <td>-0.002297</td>\n      <td>0.006439</td>\n      <td>0.013720</td>\n      <td>0.008325</td>\n      <td>0.015474</td>\n      <td>0.032492</td>\n      <td>-0.009143</td>\n      <td>...</td>\n      <td>0.005573</td>\n      <td>0.007713</td>\n      <td>-0.002100</td>\n      <td>0.004421</td>\n      <td>-0.002747</td>\n      <td>-0.001730</td>\n      <td>-0.002114</td>\n      <td>-0.000105</td>\n      <td>0.000599</td>\n      <td>-0.002829</td>\n    </tr>\n    <tr>\n      <th>2018-12-11</th>\n      <td>-0.007822</td>\n      <td>-0.003990</td>\n      <td>-0.012846</td>\n      <td>0.000131</td>\n      <td>-0.011007</td>\n      <td>0.000259</td>\n      <td>0.000957</td>\n      <td>-0.004953</td>\n      <td>-0.024654</td>\n      <td>0.002345</td>\n      <td>...</td>\n      <td>-0.005168</td>\n      <td>-0.005621</td>\n      <td>-0.000647</td>\n      <td>0.002529</td>\n      <td>0.000908</td>\n      <td>0.008658</td>\n      <td>-0.000608</td>\n      <td>0.000174</td>\n      <td>0.000021</td>\n      <td>0.002831</td>\n    </tr>\n    <tr>\n      <th>...</th>\n      <td>...</td>\n      <td>...</td>\n      <td>...</td>\n      <td>...</td>\n      <td>...</td>\n      <td>...</td>\n      <td>...</td>\n      <td>...</td>\n      <td>...</td>\n      <td>...</td>\n      <td>...</td>\n      <td>...</td>\n      <td>...</td>\n      <td>...</td>\n      <td>...</td>\n      <td>...</td>\n      <td>...</td>\n      <td>...</td>\n      <td>...</td>\n      <td>...</td>\n      <td>...</td>\n    </tr>\n    <tr>\n      <th>2020-10-28</th>\n      <td>0.126493</td>\n      <td>0.041646</td>\n      <td>0.023843</td>\n      <td>0.016057</td>\n      <td>0.018062</td>\n      <td>0.001215</td>\n      <td>0.003358</td>\n      <td>0.000118</td>\n      <td>0.088715</td>\n      <td>0.089444</td>\n      <td>...</td>\n      <td>-0.003635</td>\n      <td>0.000094</td>\n      <td>0.001429</td>\n      <td>0.005459</td>\n      <td>0.000394</td>\n      <td>0.006373</td>\n      <td>0.001907</td>\n      <td>-0.005170</td>\n      <td>-0.002810</td>\n      <td>-0.006136</td>\n    </tr>\n    <tr>\n      <th>2020-10-29</th>\n      <td>-0.071799</td>\n      <td>-0.030799</td>\n      <td>-0.001255</td>\n      <td>-0.006618</td>\n      <td>-0.001388</td>\n      <td>0.003016</td>\n      <td>-0.000450</td>\n      <td>0.010107</td>\n      <td>-0.018065</td>\n      <td>-0.036658</td>\n      <td>...</td>\n      <td>-0.001484</td>\n      <td>0.001252</td>\n      <td>0.000925</td>\n      <td>-0.006045</td>\n      <td>0.000183</td>\n      <td>0.001857</td>\n      <td>0.002216</td>\n      <td>-0.000955</td>\n      <td>0.001840</td>\n      <td>0.000156</td>\n    </tr>\n    <tr>\n      <th>2020-10-30</th>\n      <td>0.057504</td>\n      <td>0.030006</td>\n      <td>-0.002684</td>\n      <td>0.003936</td>\n      <td>-0.002002</td>\n      <td>0.009617</td>\n      <td>0.009665</td>\n      <td>0.003646</td>\n      <td>-0.021456</td>\n      <td>0.014964</td>\n      <td>...</td>\n      <td>-0.001702</td>\n      <td>0.000905</td>\n      <td>0.000202</td>\n      <td>0.003478</td>\n      <td>0.000261</td>\n      <td>0.003987</td>\n      <td>0.000122</td>\n      <td>0.002158</td>\n      <td>-0.000541</td>\n      <td>0.000809</td>\n    </tr>\n    <tr>\n      <th>2020-11-02</th>\n      <td>-0.033387</td>\n      <td>-0.023300</td>\n      <td>-0.010517</td>\n      <td>-0.006186</td>\n      <td>-0.007483</td>\n      <td>-0.008032</td>\n      <td>-0.007781</td>\n      <td>-0.003595</td>\n      <td>-0.032420</td>\n      <td>-0.037162</td>\n      <td>...</td>\n      <td>0.000721</td>\n      <td>-0.001211</td>\n      <td>0.000415</td>\n      <td>0.001276</td>\n      <td>0.000031</td>\n      <td>0.005940</td>\n      <td>0.000208</td>\n      <td>0.002314</td>\n      <td>0.001425</td>\n      <td>0.002437</td>\n    </tr>\n    <tr>\n      <th>2020-11-03</th>\n      <td>-0.053214</td>\n      <td>-0.020974</td>\n      <td>-0.015464</td>\n      <td>-0.007673</td>\n      <td>-0.012394</td>\n      <td>0.000000</td>\n      <td>-0.011784</td>\n      <td>-0.010422</td>\n      <td>-0.036835</td>\n      <td>-0.035466</td>\n      <td>...</td>\n      <td>0.001433</td>\n      <td>-0.004098</td>\n      <td>-0.004379</td>\n      <td>-0.000730</td>\n      <td>-0.000562</td>\n      <td>0.001682</td>\n      <td>-0.003055</td>\n      <td>0.002137</td>\n      <td>0.000971</td>\n      <td>0.003311</td>\n    </tr>\n  </tbody>\n</table>\n<p>500 rows × 30 columns</p>\n</div>"
     },
     "metadata": {},
     "execution_count": 4
    }
   ],
   "source": [
    "df_return_test"
   ]
  },
  {
   "cell_type": "code",
   "execution_count": 5,
   "metadata": {},
   "outputs": [],
   "source": [
    "results = portfolio_optimisation(df_return_test, grm_bound={'first_risk': [0.1, 0.3], 'defensive_factors': [0.1, 0.3], 'trend': [0.1, 0.4], 'tail_risk': [0.1, 0.4]})"
   ]
  },
  {
   "cell_type": "code",
   "execution_count": 6,
   "metadata": {},
   "outputs": [
    {
     "output_type": "execute_result",
     "data": {
      "text/plain": [
       "0.16054490006640443"
      ]
     },
     "metadata": {},
     "execution_count": 6
    }
   ],
   "source": [
    "sum(list(results['weights'].values())[0:11])"
   ]
  },
  {
   "cell_type": "code",
   "execution_count": 7,
   "metadata": {},
   "outputs": [
    {
     "output_type": "execute_result",
     "data": {
      "text/plain": [
       "0.29999999999809973"
      ]
     },
     "metadata": {},
     "execution_count": 7
    }
   ],
   "source": [
    "sum(list(results['weights'].values())[11:20])"
   ]
  },
  {
   "cell_type": "code",
   "execution_count": 8,
   "metadata": {},
   "outputs": [
    {
     "output_type": "execute_result",
     "data": {
      "text/plain": [
       "0.19776873139534668"
      ]
     },
     "metadata": {},
     "execution_count": 8
    }
   ],
   "source": [
    "sum(list(results['weights'].values())[20:26])"
   ]
  },
  {
   "cell_type": "code",
   "execution_count": 9,
   "metadata": {},
   "outputs": [
    {
     "output_type": "execute_result",
     "data": {
      "text/plain": [
       "0.34168636854171996"
      ]
     },
     "metadata": {},
     "execution_count": 9
    }
   ],
   "source": [
    "sum(list(results['weights'].values())[26:30])"
   ]
  },
  {
   "cell_type": "code",
   "execution_count": 10,
   "metadata": {},
   "outputs": [],
   "source": [
    "perf = (1+np.random.randn(1000)/100).cumprod()"
   ]
  },
  {
   "cell_type": "code",
   "execution_count": 11,
   "metadata": {},
   "outputs": [
    {
     "output_type": "execute_result",
     "data": {
      "text/plain": [
       "-0.2113420085465973"
      ]
     },
     "metadata": {},
     "execution_count": 11
    }
   ],
   "source": [
    "max_drawdown(perf)"
   ]
  },
  {
   "cell_type": "code",
   "execution_count": null,
   "metadata": {},
   "outputs": [],
   "source": []
  }
 ]
}